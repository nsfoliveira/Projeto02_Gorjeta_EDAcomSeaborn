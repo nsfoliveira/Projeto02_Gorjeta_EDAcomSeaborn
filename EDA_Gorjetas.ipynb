{
 "cells": [
  {
   "cell_type": "markdown",
   "id": "4b93042c-8c00-4fcd-ac34-4a6e0f6638d6",
   "metadata": {},
   "source": [
    "# Projeto: Análise Exploratória dos Dados de Gorjeta"
   ]
  },
  {
   "cell_type": "markdown",
   "id": "90b04b7e-6b43-42bc-81a6-24aeb60bf378",
   "metadata": {},
   "source": [
    "## Sobre o Projeto:\n",
    "    \n",
    "Este projeto é resultado do treinamento <b> Data Visualization: Explorando com Seaborn</b> da Alura, em que foi utilizado os dados disponíbeis pela biblioteca Seaborn e previamente tratadas.\n",
    "\n",
    "## Informações Importantes:\n",
    "<sub><i> *Dados Fictícios </i><sub><br>\n",
    "   \n",
    "## Objetivo: \n",
    "\n",
    "Analisar uma <b>amostra</b> dos dados e responder as seguintes questões:\n",
    "    \n",
    "1. O Valor da conta influência no valor da gorjeta?\n",
    "2. Há diferença no valor da gorjeta entre quem pede e quem não pede sobremesa?\n",
    "3. O dia da semena influencia no valor da gorjeta?\n",
    "4. Qual hora do dia as gorjetas são maiores? E menores?"
   ]
  },
  {
   "cell_type": "markdown",
   "id": "2ca04838-6049-4370-bf27-e50cf761838d",
   "metadata": {},
   "source": [
    "#### Importando as bibliotecas"
   ]
  },
  {
   "cell_type": "code",
   "execution_count": 1,
   "id": "4b688dcb-c105-43d7-b543-bdb0e3a5ae07",
   "metadata": {
    "tags": []
   },
   "outputs": [
    {
     "name": "stdout",
     "output_type": "stream",
     "text": [
      "Name: pandas\n",
      "Version: 1.2.4\n",
      "Summary: Powerful data structures for data analysis, time series, and statistics\n",
      "Home-page: https://pandas.pydata.org\n",
      "Author: None\n",
      "Author-email: None\n",
      "License: BSD\n",
      "Location: c:\\users\\natalia\\anaconda3\\lib\\site-packages\n",
      "Requires: numpy, python-dateutil, pytz\n",
      "Required-by: statsmodels, seaborn\n"
     ]
    }
   ],
   "source": [
    "import pandas as pd\n",
    "!pip show pandas"
   ]
  },
  {
   "cell_type": "code",
   "execution_count": 2,
   "id": "ba6ff480-fd68-4850-ab4b-667f12a33551",
   "metadata": {
    "tags": []
   },
   "outputs": [
    {
     "name": "stdout",
     "output_type": "stream",
     "text": [
      "Name: seaborn\n",
      "Version: 0.11.1\n",
      "Summary: seaborn: statistical data visualization\n",
      "Home-page: https://seaborn.pydata.org\n",
      "Author: Michael Waskom\n",
      "Author-email: mwaskom@nyu.edu\n",
      "License: BSD (3-clause)\n",
      "Location: c:\\users\\natalia\\anaconda3\\lib\\site-packages\n",
      "Requires: numpy, matplotlib, pandas, scipy\n",
      "Required-by: \n"
     ]
    }
   ],
   "source": [
    "import seaborn as sns\n",
    "sns.set_theme(style=\"ticks\", palette=\"husl\")#registrando tema\n",
    "!pip show seaborn"
   ]
  },
  {
   "cell_type": "code",
   "execution_count": 3,
   "id": "8efa16a5-86de-4a0d-a8a6-0bfeddfbd23c",
   "metadata": {
    "jupyter": {
     "source_hidden": true
    }
   },
   "outputs": [
    {
     "name": "stdout",
     "output_type": "stream",
     "text": [
      "Name: matplotlib\n",
      "Version: 3.3.4\n",
      "Summary: Python plotting package\n",
      "Home-page: https://matplotlib.org\n",
      "Author: John D. Hunter, Michael Droettboom\n",
      "Author-email: matplotlib-users@python.org\n",
      "License: PSF\n",
      "Location: c:\\users\\natalia\\anaconda3\\lib\\site-packages\n",
      "Requires: numpy, python-dateutil, pyparsing, pillow, cycler, kiwisolver\n",
      "Required-by: seaborn, scikit-image\n"
     ]
    }
   ],
   "source": [
    "# inline mostrara um gráfico estática na tela\n",
    "%matplotlib inline\n",
    "import matplotlib.pyplot as plt\n",
    "!pip show matplotlib"
   ]
  },
  {
   "cell_type": "markdown",
   "id": "c66f3c52-133a-4a1c-8a34-9659066041e7",
   "metadata": {},
   "source": [
    "#### Importando base de dados"
   ]
  },
  {
   "cell_type": "code",
   "execution_count": 4,
   "id": "eceb9f7a-6e9a-4229-9e14-5b5a372aec0a",
   "metadata": {
    "jupyter": {
     "source_hidden": true
    },
    "tags": []
   },
   "outputs": [],
   "source": [
    "# lendo o dataset \n",
    "dados = pd.read_csv('dados/tips.csv', sep=',')"
   ]
  },
  {
   "cell_type": "code",
   "execution_count": 5,
   "id": "b9dd4a33-89a1-43d2-90ed-e5559ecf4314",
   "metadata": {
    "jupyter": {
     "source_hidden": true
    },
    "tags": []
   },
   "outputs": [
    {
     "name": "stdout",
     "output_type": "stream",
     "text": [
      "A base de dados contém 244 linhas e 6 colunas\n"
     ]
    }
   ],
   "source": [
    "# Visualizando o tamanho do dataset\n",
    "print('A base de dados contém {} linhas e {} colunas'.format(dados.shape[0],dados.shape[1]))"
   ]
  },
  {
   "cell_type": "code",
   "execution_count": 6,
   "id": "f1fbb388-ed2f-4239-8cf6-1ba491d58b98",
   "metadata": {
    "jupyter": {
     "source_hidden": true
    }
   },
   "outputs": [
    {
     "name": "stdout",
     "output_type": "stream",
     "text": [
      "<class 'pandas.core.frame.DataFrame'>\n",
      "RangeIndex: 244 entries, 0 to 243\n",
      "Data columns (total 6 columns):\n",
      " #   Column      Non-Null Count  Dtype  \n",
      "---  ------      --------------  -----  \n",
      " 0   total_bill  244 non-null    float64\n",
      " 1   tip         244 non-null    float64\n",
      " 2   dessert     244 non-null    object \n",
      " 3   day         244 non-null    object \n",
      " 4   time        244 non-null    object \n",
      " 5   size        244 non-null    int64  \n",
      "dtypes: float64(2), int64(1), object(3)\n",
      "memory usage: 11.6+ KB\n"
     ]
    }
   ],
   "source": [
    "# Visualizando resumo das informações do dataset\n",
    "dados.info()"
   ]
  },
  {
   "cell_type": "code",
   "execution_count": 7,
   "id": "05c883a6-bd3c-41bf-8de8-64c0500c5a57",
   "metadata": {
    "jupyter": {
     "source_hidden": true
    },
    "tags": []
   },
   "outputs": [
    {
     "data": {
      "text/html": [
       "<div>\n",
       "<style scoped>\n",
       "    .dataframe tbody tr th:only-of-type {\n",
       "        vertical-align: middle;\n",
       "    }\n",
       "\n",
       "    .dataframe tbody tr th {\n",
       "        vertical-align: top;\n",
       "    }\n",
       "\n",
       "    .dataframe thead th {\n",
       "        text-align: right;\n",
       "    }\n",
       "</style>\n",
       "<table border=\"1\" class=\"dataframe\">\n",
       "  <thead>\n",
       "    <tr style=\"text-align: right;\">\n",
       "      <th></th>\n",
       "      <th>total_bill</th>\n",
       "      <th>tip</th>\n",
       "      <th>dessert</th>\n",
       "      <th>day</th>\n",
       "      <th>time</th>\n",
       "      <th>size</th>\n",
       "    </tr>\n",
       "  </thead>\n",
       "  <tbody>\n",
       "    <tr>\n",
       "      <th>76</th>\n",
       "      <td>17.92</td>\n",
       "      <td>3.08</td>\n",
       "      <td>Yes</td>\n",
       "      <td>Sat</td>\n",
       "      <td>Dinner</td>\n",
       "      <td>2</td>\n",
       "    </tr>\n",
       "    <tr>\n",
       "      <th>241</th>\n",
       "      <td>22.67</td>\n",
       "      <td>2.00</td>\n",
       "      <td>Yes</td>\n",
       "      <td>Sat</td>\n",
       "      <td>Dinner</td>\n",
       "      <td>2</td>\n",
       "    </tr>\n",
       "    <tr>\n",
       "      <th>12</th>\n",
       "      <td>15.42</td>\n",
       "      <td>1.57</td>\n",
       "      <td>No</td>\n",
       "      <td>Sun</td>\n",
       "      <td>Dinner</td>\n",
       "      <td>2</td>\n",
       "    </tr>\n",
       "    <tr>\n",
       "      <th>123</th>\n",
       "      <td>15.95</td>\n",
       "      <td>2.00</td>\n",
       "      <td>No</td>\n",
       "      <td>Thur</td>\n",
       "      <td>Lunch</td>\n",
       "      <td>2</td>\n",
       "    </tr>\n",
       "    <tr>\n",
       "      <th>143</th>\n",
       "      <td>27.05</td>\n",
       "      <td>5.00</td>\n",
       "      <td>No</td>\n",
       "      <td>Thur</td>\n",
       "      <td>Lunch</td>\n",
       "      <td>6</td>\n",
       "    </tr>\n",
       "  </tbody>\n",
       "</table>\n",
       "</div>"
      ],
      "text/plain": [
       "     total_bill   tip dessert   day    time  size\n",
       "76        17.92  3.08     Yes   Sat  Dinner     2\n",
       "241       22.67  2.00     Yes   Sat  Dinner     2\n",
       "12        15.42  1.57      No   Sun  Dinner     2\n",
       "123       15.95  2.00      No  Thur   Lunch     2\n",
       "143       27.05  5.00      No  Thur   Lunch     6"
      ]
     },
     "execution_count": 7,
     "metadata": {},
     "output_type": "execute_result"
    }
   ],
   "source": [
    "# Visualizando uma amostra dos dados\n",
    "dados.sample(5)"
   ]
  },
  {
   "cell_type": "markdown",
   "id": "70005bb9-9868-488f-8bd9-fa2f7af221a9",
   "metadata": {},
   "source": [
    "#### Traduzindo dados -  etapa apenas para fins didáticos!"
   ]
  },
  {
   "cell_type": "code",
   "execution_count": 8,
   "id": "5346d1e1-c223-4533-8a98-71d36a87ff65",
   "metadata": {
    "jupyter": {
     "source_hidden": true
    }
   },
   "outputs": [
    {
     "data": {
      "text/plain": [
       "Index(['total_bill', 'tip', 'dessert', 'day', 'time', 'size'], dtype='object')"
      ]
     },
     "execution_count": 8,
     "metadata": {},
     "output_type": "execute_result"
    }
   ],
   "source": [
    "# Verificando o nome das colunas\n",
    "dados.columns"
   ]
  },
  {
   "cell_type": "code",
   "execution_count": 9,
   "id": "b4698693-ebca-4806-955b-85ee6751dfb2",
   "metadata": {
    "jupyter": {
     "source_hidden": true
    },
    "tags": []
   },
   "outputs": [
    {
     "data": {
      "text/html": [
       "<div>\n",
       "<style scoped>\n",
       "    .dataframe tbody tr th:only-of-type {\n",
       "        vertical-align: middle;\n",
       "    }\n",
       "\n",
       "    .dataframe tbody tr th {\n",
       "        vertical-align: top;\n",
       "    }\n",
       "\n",
       "    .dataframe thead th {\n",
       "        text-align: right;\n",
       "    }\n",
       "</style>\n",
       "<table border=\"1\" class=\"dataframe\">\n",
       "  <thead>\n",
       "    <tr style=\"text-align: right;\">\n",
       "      <th></th>\n",
       "      <th>total_conta</th>\n",
       "      <th>gorjeta</th>\n",
       "      <th>sobremesa</th>\n",
       "      <th>dia_da_semana</th>\n",
       "      <th>hora_do_dia</th>\n",
       "      <th>total_de_pessoas</th>\n",
       "    </tr>\n",
       "  </thead>\n",
       "  <tbody>\n",
       "    <tr>\n",
       "      <th>0</th>\n",
       "      <td>16.99</td>\n",
       "      <td>1.01</td>\n",
       "      <td>No</td>\n",
       "      <td>Sun</td>\n",
       "      <td>Dinner</td>\n",
       "      <td>2</td>\n",
       "    </tr>\n",
       "    <tr>\n",
       "      <th>1</th>\n",
       "      <td>10.34</td>\n",
       "      <td>1.66</td>\n",
       "      <td>No</td>\n",
       "      <td>Sun</td>\n",
       "      <td>Dinner</td>\n",
       "      <td>3</td>\n",
       "    </tr>\n",
       "    <tr>\n",
       "      <th>2</th>\n",
       "      <td>21.01</td>\n",
       "      <td>3.50</td>\n",
       "      <td>No</td>\n",
       "      <td>Sun</td>\n",
       "      <td>Dinner</td>\n",
       "      <td>3</td>\n",
       "    </tr>\n",
       "    <tr>\n",
       "      <th>3</th>\n",
       "      <td>23.68</td>\n",
       "      <td>3.31</td>\n",
       "      <td>No</td>\n",
       "      <td>Sun</td>\n",
       "      <td>Dinner</td>\n",
       "      <td>2</td>\n",
       "    </tr>\n",
       "    <tr>\n",
       "      <th>4</th>\n",
       "      <td>24.59</td>\n",
       "      <td>3.61</td>\n",
       "      <td>No</td>\n",
       "      <td>Sun</td>\n",
       "      <td>Dinner</td>\n",
       "      <td>4</td>\n",
       "    </tr>\n",
       "  </tbody>\n",
       "</table>\n",
       "</div>"
      ],
      "text/plain": [
       "   total_conta  gorjeta sobremesa dia_da_semana hora_do_dia  total_de_pessoas\n",
       "0        16.99     1.01        No           Sun      Dinner                 2\n",
       "1        10.34     1.66        No           Sun      Dinner                 3\n",
       "2        21.01     3.50        No           Sun      Dinner                 3\n",
       "3        23.68     3.31        No           Sun      Dinner                 2\n",
       "4        24.59     3.61        No           Sun      Dinner                 4"
      ]
     },
     "execution_count": 9,
     "metadata": {},
     "output_type": "execute_result"
    }
   ],
   "source": [
    "# Renomeando as colunas\n",
    "\n",
    "#criando um dicionário onde a chave é o objeto atual e o valor é o objeto que devera substituir o atual\n",
    "renomear = {\n",
    "    'total_bill':'total_conta', \n",
    "    'tip':'gorjeta', \n",
    "    'dessert':'sobremesa', \n",
    "    'day':'dia_da_semana', \n",
    "    'time':'hora_do_dia', \n",
    "    'size':'total_de_pessoas'    \n",
    "}\n",
    "\n",
    "#criando novo dataframe \n",
    "gorjetas = dados.rename(columns=renomear)\n",
    "gorjetas.head(5)"
   ]
  },
  {
   "cell_type": "code",
   "execution_count": 10,
   "id": "b71bfcee-bfcc-45ee-b5c7-53e0567f56ca",
   "metadata": {
    "jupyter": {
     "source_hidden": true
    }
   },
   "outputs": [
    {
     "data": {
      "text/plain": [
       "array(['Não', 'Sim'], dtype=object)"
      ]
     },
     "execution_count": 10,
     "metadata": {},
     "output_type": "execute_result"
    }
   ],
   "source": [
    "# Renomeando campo sobremesa\n",
    "\n",
    "#visualizando os dados da variável com o método unique()\n",
    "gorjetas.sobremesa.unique()\n",
    "\n",
    "#criando dicionário\n",
    "sim_não = {\n",
    "    'No':'Não', \n",
    "    'Yes':'Sim'\n",
    "}\n",
    "\n",
    "#trocando os valores da coluna usando a função map()\n",
    "gorjetas.sobremesa = gorjetas.sobremesa.map(sim_não)\n",
    "gorjetas.sobremesa.unique()"
   ]
  },
  {
   "cell_type": "code",
   "execution_count": 11,
   "id": "5c606963-138e-4316-8a3d-c4f3b74975b2",
   "metadata": {
    "jupyter": {
     "source_hidden": true
    }
   },
   "outputs": [
    {
     "data": {
      "text/plain": [
       "array(['Dom', 'Sáb', 'Qui', 'Sex'], dtype=object)"
      ]
     },
     "execution_count": 11,
     "metadata": {},
     "output_type": "execute_result"
    }
   ],
   "source": [
    "# Renomeando campo dia da semana\n",
    "\n",
    "#visualizando os dados da variável com o método unique()\n",
    "gorjetas.dia_da_semana.unique()\n",
    "\n",
    "#criando dicionário\n",
    "semana = {\n",
    "    'Sun':'Dom', \n",
    "    'Sat':'Sáb', \n",
    "    'Thur':'Qui', \n",
    "    'Fri':'Sex'\n",
    "}\n",
    "\n",
    "#trocando os valores da coluna usando a função map()\n",
    "gorjetas.dia_da_semana = gorjetas.dia_da_semana.map(semana)\n",
    "gorjetas.dia_da_semana.unique()"
   ]
  },
  {
   "cell_type": "code",
   "execution_count": 12,
   "id": "7614c2bd-db6f-4caa-8f61-845dc5611d7e",
   "metadata": {
    "jupyter": {
     "source_hidden": true
    },
    "tags": []
   },
   "outputs": [
    {
     "data": {
      "text/plain": [
       "array(['Jantar', 'Almoço'], dtype=object)"
      ]
     },
     "execution_count": 12,
     "metadata": {},
     "output_type": "execute_result"
    }
   ],
   "source": [
    "# Renomeando campo hora do dia\n",
    "\n",
    "#visualizando os dados da variável com o método unique()\n",
    "gorjetas.hora_do_dia.unique()\n",
    "\n",
    "#criando dicionário\n",
    "hora = {\n",
    "   'Dinner':'Jantar', \n",
    "    'Lunch':'Almoço'\n",
    "}\n",
    "\n",
    "#trocando os valores da coluna usando a função map()\n",
    "gorjetas.hora_do_dia = gorjetas.hora_do_dia.map(hora)\n",
    "gorjetas.hora_do_dia.unique()"
   ]
  },
  {
   "cell_type": "markdown",
   "id": "8ff52ae7-03ff-4ee4-a086-cfcb0453b54e",
   "metadata": {},
   "source": [
    "### Primeira Análise: <b>O Valor da conta influência no valor da gorjeta?</b>"
   ]
  },
  {
   "cell_type": "markdown",
   "id": "a4899654-28f4-46d6-bb2b-c4558b386c48",
   "metadata": {},
   "source": [
    "#### Visualizando os dados através de um gráfico de dispersão"
   ]
  },
  {
   "cell_type": "code",
   "execution_count": 13,
   "id": "b2766a64-fa9e-4f32-9367-43a04ac8c761",
   "metadata": {
    "jupyter": {
     "source_hidden": true
    },
    "tags": []
   },
   "outputs": [
    {
     "data": {
      "text/plain": [
       "Text(0, 0.5, 'Valor da Gorjeta $')"
      ]
     },
     "execution_count": 13,
     "metadata": {},
     "output_type": "execute_result"
    },
    {
     "data": {
      "image/png": "[encoded data removed]",
      "text/plain": [
       "<Figure size 432x288 with 1 Axes>"
      ]
     },
     "metadata": {
      "needs_background": "light"
     },
     "output_type": "display_data"
    }
   ],
   "source": [
    "# Gráfico 01: Valor Total da Conta x Valor da Gorjeta\n",
    "fig1 = sns.scatterplot(x='total_conta', y='gorjeta', data=gorjetas)\n",
    "fig1.set_title('Valor Total da Conta x Valor da Gorjeta')\n",
    "fig1.set_xlabel(xlabel='Total da Conta $')\n",
    "fig1.set_ylabel(ylabel='Valor da Gorjeta $')"
   ]
  },
  {
   "cell_type": "markdown",
   "id": "9567c807-6be1-4d67-b833-95c69b3d16ac",
   "metadata": {},
   "source": [
    "<b>Visualmente</b> o valor da gorjeta aumenta conforme o valor da conta"
   ]
  },
  {
   "cell_type": "markdown",
   "id": "2cfc5989-c79c-4e7b-87df-d21d59edf2e6",
   "metadata": {},
   "source": [
    "#### Analisando se o crescimento é proporcional"
   ]
  },
  {
   "cell_type": "code",
   "execution_count": 14,
   "id": "1a2aea44-1380-4f29-8368-c7491c5b3ff7",
   "metadata": {
    "jupyter": {
     "source_hidden": true
    }
   },
   "outputs": [],
   "source": [
    "# Criando uma nova coluna com o percentual da gorjeta em relação ao valor da conta\n",
    "gorjetas['porcentagem'] = (gorjetas['gorjeta']/gorjetas['total_conta']).round(3)"
   ]
  },
  {
   "cell_type": "code",
   "execution_count": 15,
   "id": "4c554972-2f03-499a-a6b6-9e16210a1d95",
   "metadata": {
    "tags": []
   },
   "outputs": [
    {
     "data": {
      "text/plain": [
       "<seaborn.axisgrid.FacetGrid at 0x188c93b8eb0>"
      ]
     },
     "execution_count": 15,
     "metadata": {},
     "output_type": "execute_result"
    },
    {
     "data": {
      "image/png": "[encoded data removed]",
      "text/plain": [
       "<Figure size 360x360 with 1 Axes>"
      ]
     },
     "metadata": {
      "needs_background": "light"
     },
     "output_type": "display_data"
    }
   ],
   "source": [
    "# Gráfico 02: Valor Total da Conta x Porcentagem da Gorjeta\n",
    "fig2 = sns.lmplot(x='total_conta', y='porcentagem', data=gorjetas)\n",
    "fig2.set_titles('Valor Total da Conta x Porcentagem da Gorjeta')\n",
    "fig2.set_xlabels(label='Total da Conta $')\n",
    "fig2.set_ylabels(label='Gorjeta %')"
   ]
  },
  {
   "cell_type": "markdown",
   "id": "b106021b-e3a0-4cee-b843-b81592beffa2",
   "metadata": {},
   "source": [
    "<b>Visualmente</b> se pode notar que a porcentagem da gorjetar não cresce proporcionalmente conforme o valor da conta aumenta."
   ]
  },
  {
   "cell_type": "code",
   "execution_count": 16,
   "id": "c5d45500-9ed4-4e16-a3fc-2eddd769d878",
   "metadata": {
    "jupyter": {
     "source_hidden": true
    }
   },
   "outputs": [
    {
     "data": {
      "text/html": [
       "<div>\n",
       "<style scoped>\n",
       "    .dataframe tbody tr th:only-of-type {\n",
       "        vertical-align: middle;\n",
       "    }\n",
       "\n",
       "    .dataframe tbody tr th {\n",
       "        vertical-align: top;\n",
       "    }\n",
       "\n",
       "    .dataframe thead th {\n",
       "        text-align: right;\n",
       "    }\n",
       "</style>\n",
       "<table border=\"1\" class=\"dataframe\">\n",
       "  <thead>\n",
       "    <tr style=\"text-align: right;\">\n",
       "      <th></th>\n",
       "      <th>total_conta</th>\n",
       "      <th>gorjeta</th>\n",
       "      <th>sobremesa</th>\n",
       "      <th>dia_da_semana</th>\n",
       "      <th>hora_do_dia</th>\n",
       "      <th>total_de_pessoas</th>\n",
       "      <th>porcentagem</th>\n",
       "    </tr>\n",
       "  </thead>\n",
       "  <tbody>\n",
       "    <tr>\n",
       "      <th>0</th>\n",
       "      <td>16.99</td>\n",
       "      <td>1.01</td>\n",
       "      <td>Não</td>\n",
       "      <td>Dom</td>\n",
       "      <td>Jantar</td>\n",
       "      <td>2</td>\n",
       "      <td>0.059</td>\n",
       "    </tr>\n",
       "  </tbody>\n",
       "</table>\n",
       "</div>"
      ],
      "text/plain": [
       "   total_conta  gorjeta sobremesa dia_da_semana hora_do_dia  total_de_pessoas  \\\n",
       "0        16.99     1.01       Não           Dom      Jantar                 2   \n",
       "\n",
       "   porcentagem  \n",
       "0        0.059  "
      ]
     },
     "execution_count": 16,
     "metadata": {},
     "output_type": "execute_result"
    }
   ],
   "source": [
    "gorjetas.head(1)"
   ]
  },
  {
   "cell_type": "markdown",
   "id": "916ca89b-c336-41d9-b323-0f45e0ea2814",
   "metadata": {
    "tags": []
   },
   "source": [
    "### Segunda Análise:<b> Há diferença no valor da gorjeta entre quem pede e quem não pede sobremesa?</b>\n"
   ]
  },
  {
   "cell_type": "markdown",
   "id": "7a19523f-8a62-4e8a-bcdc-1a0f57565420",
   "metadata": {},
   "source": [
    "#### Estatísticas descritivas"
   ]
  },
  {
   "cell_type": "code",
   "execution_count": 17,
   "id": "1dab55bb-0ead-4799-bef8-68cbdd2afb6a",
   "metadata": {},
   "outputs": [
    {
     "data": {
      "text/html": [
       "<div>\n",
       "<style scoped>\n",
       "    .dataframe tbody tr th:only-of-type {\n",
       "        vertical-align: middle;\n",
       "    }\n",
       "\n",
       "    .dataframe tbody tr th {\n",
       "        vertical-align: top;\n",
       "    }\n",
       "\n",
       "    .dataframe thead th {\n",
       "        text-align: right;\n",
       "    }\n",
       "</style>\n",
       "<table border=\"1\" class=\"dataframe\">\n",
       "  <thead>\n",
       "    <tr style=\"text-align: right;\">\n",
       "      <th></th>\n",
       "      <th>total_conta</th>\n",
       "      <th>gorjeta</th>\n",
       "      <th>total_de_pessoas</th>\n",
       "      <th>porcentagem</th>\n",
       "    </tr>\n",
       "  </thead>\n",
       "  <tbody>\n",
       "    <tr>\n",
       "      <th>count</th>\n",
       "      <td>93.000000</td>\n",
       "      <td>93.000000</td>\n",
       "      <td>93.000000</td>\n",
       "      <td>93.000000</td>\n",
       "    </tr>\n",
       "    <tr>\n",
       "      <th>mean</th>\n",
       "      <td>20.756344</td>\n",
       "      <td>3.008710</td>\n",
       "      <td>2.408602</td>\n",
       "      <td>0.163226</td>\n",
       "    </tr>\n",
       "    <tr>\n",
       "      <th>std</th>\n",
       "      <td>9.832154</td>\n",
       "      <td>1.401468</td>\n",
       "      <td>0.810751</td>\n",
       "      <td>0.085093</td>\n",
       "    </tr>\n",
       "    <tr>\n",
       "      <th>min</th>\n",
       "      <td>3.070000</td>\n",
       "      <td>1.000000</td>\n",
       "      <td>1.000000</td>\n",
       "      <td>0.036000</td>\n",
       "    </tr>\n",
       "    <tr>\n",
       "      <th>25%</th>\n",
       "      <td>13.420000</td>\n",
       "      <td>2.000000</td>\n",
       "      <td>2.000000</td>\n",
       "      <td>0.107000</td>\n",
       "    </tr>\n",
       "    <tr>\n",
       "      <th>50%</th>\n",
       "      <td>17.920000</td>\n",
       "      <td>3.000000</td>\n",
       "      <td>2.000000</td>\n",
       "      <td>0.154000</td>\n",
       "    </tr>\n",
       "    <tr>\n",
       "      <th>75%</th>\n",
       "      <td>26.860000</td>\n",
       "      <td>3.680000</td>\n",
       "      <td>3.000000</td>\n",
       "      <td>0.195000</td>\n",
       "    </tr>\n",
       "    <tr>\n",
       "      <th>max</th>\n",
       "      <td>50.810000</td>\n",
       "      <td>10.000000</td>\n",
       "      <td>5.000000</td>\n",
       "      <td>0.710000</td>\n",
       "    </tr>\n",
       "  </tbody>\n",
       "</table>\n",
       "</div>"
      ],
      "text/plain": [
       "       total_conta    gorjeta  total_de_pessoas  porcentagem\n",
       "count    93.000000  93.000000         93.000000    93.000000\n",
       "mean     20.756344   3.008710          2.408602     0.163226\n",
       "std       9.832154   1.401468          0.810751     0.085093\n",
       "min       3.070000   1.000000          1.000000     0.036000\n",
       "25%      13.420000   2.000000          2.000000     0.107000\n",
       "50%      17.920000   3.000000          2.000000     0.154000\n",
       "75%      26.860000   3.680000          3.000000     0.195000\n",
       "max      50.810000  10.000000          5.000000     0.710000"
      ]
     },
     "execution_count": 17,
     "metadata": {},
     "output_type": "execute_result"
    }
   ],
   "source": [
    "# Filtrando quem pediu sobremesa\n",
    "gorjetas[gorjetas['sobremesa']=='Sim'].describe()"
   ]
  },
  {
   "cell_type": "code",
   "execution_count": 18,
   "id": "37ab2a4e-78b3-4bfc-9dce-3fbe8e13cba5",
   "metadata": {},
   "outputs": [
    {
     "data": {
      "text/html": [
       "<div>\n",
       "<style scoped>\n",
       "    .dataframe tbody tr th:only-of-type {\n",
       "        vertical-align: middle;\n",
       "    }\n",
       "\n",
       "    .dataframe tbody tr th {\n",
       "        vertical-align: top;\n",
       "    }\n",
       "\n",
       "    .dataframe thead th {\n",
       "        text-align: right;\n",
       "    }\n",
       "</style>\n",
       "<table border=\"1\" class=\"dataframe\">\n",
       "  <thead>\n",
       "    <tr style=\"text-align: right;\">\n",
       "      <th></th>\n",
       "      <th>total_conta</th>\n",
       "      <th>gorjeta</th>\n",
       "      <th>total_de_pessoas</th>\n",
       "      <th>porcentagem</th>\n",
       "    </tr>\n",
       "  </thead>\n",
       "  <tbody>\n",
       "    <tr>\n",
       "      <th>count</th>\n",
       "      <td>151.000000</td>\n",
       "      <td>151.000000</td>\n",
       "      <td>151.000000</td>\n",
       "      <td>151.000000</td>\n",
       "    </tr>\n",
       "    <tr>\n",
       "      <th>mean</th>\n",
       "      <td>19.188278</td>\n",
       "      <td>2.991854</td>\n",
       "      <td>2.668874</td>\n",
       "      <td>0.159331</td>\n",
       "    </tr>\n",
       "    <tr>\n",
       "      <th>std</th>\n",
       "      <td>8.255582</td>\n",
       "      <td>1.377190</td>\n",
       "      <td>1.017984</td>\n",
       "      <td>0.039949</td>\n",
       "    </tr>\n",
       "    <tr>\n",
       "      <th>min</th>\n",
       "      <td>7.250000</td>\n",
       "      <td>1.000000</td>\n",
       "      <td>1.000000</td>\n",
       "      <td>0.057000</td>\n",
       "    </tr>\n",
       "    <tr>\n",
       "      <th>25%</th>\n",
       "      <td>13.325000</td>\n",
       "      <td>2.000000</td>\n",
       "      <td>2.000000</td>\n",
       "      <td>0.136500</td>\n",
       "    </tr>\n",
       "    <tr>\n",
       "      <th>50%</th>\n",
       "      <td>17.590000</td>\n",
       "      <td>2.740000</td>\n",
       "      <td>2.000000</td>\n",
       "      <td>0.156000</td>\n",
       "    </tr>\n",
       "    <tr>\n",
       "      <th>75%</th>\n",
       "      <td>22.755000</td>\n",
       "      <td>3.505000</td>\n",
       "      <td>3.000000</td>\n",
       "      <td>0.185000</td>\n",
       "    </tr>\n",
       "    <tr>\n",
       "      <th>max</th>\n",
       "      <td>48.330000</td>\n",
       "      <td>9.000000</td>\n",
       "      <td>6.000000</td>\n",
       "      <td>0.292000</td>\n",
       "    </tr>\n",
       "  </tbody>\n",
       "</table>\n",
       "</div>"
      ],
      "text/plain": [
       "       total_conta     gorjeta  total_de_pessoas  porcentagem\n",
       "count   151.000000  151.000000        151.000000   151.000000\n",
       "mean     19.188278    2.991854          2.668874     0.159331\n",
       "std       8.255582    1.377190          1.017984     0.039949\n",
       "min       7.250000    1.000000          1.000000     0.057000\n",
       "25%      13.325000    2.000000          2.000000     0.136500\n",
       "50%      17.590000    2.740000          2.000000     0.156000\n",
       "75%      22.755000    3.505000          3.000000     0.185000\n",
       "max      48.330000    9.000000          6.000000     0.292000"
      ]
     },
     "execution_count": 18,
     "metadata": {},
     "output_type": "execute_result"
    }
   ],
   "source": [
    "# Filtrando quem não pediu sobremesa\n",
    "gorjetas[gorjetas['sobremesa']=='Não'].describe()"
   ]
  },
  {
   "cell_type": "markdown",
   "id": "650c5536-a1fe-4a50-8bca-9fc36207cae0",
   "metadata": {},
   "source": [
    "#### Analisando a distribuição das gorjetas de quem pediu ou não sobremesa através de gráficos"
   ]
  },
  {
   "cell_type": "code",
   "execution_count": 23,
   "id": "daa24bd3-1698-4a15-813f-80993050863c",
   "metadata": {},
   "outputs": [
    {
     "data": {
      "image/png": "[encoded data removed]",
      "text/plain": [
       "<Figure size 720x360 with 2 Axes>"
      ]
     },
     "metadata": {
      "needs_background": "light"
     },
     "output_type": "display_data"
    }
   ],
   "source": [
    "# Gráfico 03: Gorjeta x Sobremesa\n",
    "fig3 = sns.lmplot(x='total_conta', y='gorjeta', hue='sobremesa', col='sobremesa', data=gorjetas)"
   ]
  },
  {
   "cell_type": "code",
   "execution_count": 24,
   "id": "74136f6c-abd9-4d74-a5b2-ce765faf3952",
   "metadata": {},
   "outputs": [
    {
     "data": {
      "image/png": "[encoded data removed]",
      "text/plain": [
       "<Figure size 720x360 with 2 Axes>"
      ]
     },
     "metadata": {
      "needs_background": "light"
     },
     "output_type": "display_data"
    }
   ],
   "source": [
    "# Gráfico 04: Porcentagem x Sobremesa\n",
    "fig3 = sns.lmplot(x='total_conta', y='porcentagem', hue='sobremesa', col='sobremesa', data=gorjetas)"
   ]
  },
  {
   "cell_type": "markdown",
   "id": "74a77e73-9bb1-4c1c-8fbb-29af4271ced7",
   "metadata": {},
   "source": [
    "<b>Visualmente</b> existe uma diferença no valor da gorjeta daqueles que pediram sobremesa e dos que não pediram."
   ]
  },
  {
   "cell_type": "markdown",
   "id": "8765d8db-1ba6-4552-913b-2f44bbb64e76",
   "metadata": {},
   "source": [
    "#### Teste de Hipótese"
   ]
  },
  {
   "cell_type": "markdown",
   "id": "da15078e-33cc-4ae5-bd8a-f8550b4c7c78",
   "metadata": {},
   "source": [
    "#### <b>H<sup>null</sup></b> A distribuição da taxa da gorjeta é a mesma nos dois "
   ]
  },
  {
   "cell_type": "code",
   "execution_count": null,
   "id": "d5a6ea37-d777-4685-807f-b5b308f2fe42",
   "metadata": {},
   "outputs": [],
   "source": []
  }
 ],
 "metadata": {
  "kernelspec": {
   "display_name": "Python 3",
   "language": "python",
   "name": "python3"
  },
  "language_info": {
   "codemirror_mode": {
    "name": "ipython",
    "version": 3
   },
   "file_extension": ".py",
   "mimetype": "text/x-python",
   "name": "python",
   "nbconvert_exporter": "python",
   "pygments_lexer": "ipython3",
   "version": "3.8.8"
  }
 },
 "nbformat": 4,
 "nbformat_minor": 5
}
