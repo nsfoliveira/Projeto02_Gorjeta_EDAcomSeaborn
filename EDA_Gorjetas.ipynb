{
 "cells": [
  {
   "cell_type": "markdown",
   "id": "4b93042c-8c00-4fcd-ac34-4a6e0f6638d6",
   "metadata": {},
   "source": [
    "# Projeto: Análise Exploratória dos Dados de Gorjeta"
   ]
  },
  {
   "cell_type": "markdown",
   "id": "90b04b7e-6b43-42bc-81a6-24aeb60bf378",
   "metadata": {},
   "source": [
    "## Sobre o Projeto:\n",
    "    \n",
    "Este projeto é resultado do treinamento <b> Data Visualization: Explorando com Seaborn</b> da Alura, em que foi utilizado os dados disponíbeis pela biblioteca Seaborn e previamente tratadas.\n",
    "\n",
    "## Informações Importantes:\n",
    "<sub><i> *Dados Fictícios </i><sub><br>\n",
    "   \n",
    "## Objetivo: \n",
    "\n",
    "Analisar uma <b>amostra</b> dos dados e responder as seguintes questões:\n",
    "    \n",
    "1. O Valor da conta influência no valor da gorjeta?\n",
    "2. Entre as pessoas que pediram e as que não pediram sobremesa há diferença no valor da gorjeta oferecida?\n",
    "3. O dia da semena influencia no valor da gorjeta?\n",
    "4. Qual hora do dia as gorjetas são maiores? E menores?"
   ]
  },
  {
   "cell_type": "markdown",
   "id": "2ca04838-6049-4370-bf27-e50cf761838d",
   "metadata": {},
   "source": [
    "#### Importando as bibliotecas"
   ]
  },
  {
   "cell_type": "code",
   "execution_count": 1,
   "id": "4b688dcb-c105-43d7-b543-bdb0e3a5ae07",
   "metadata": {
    "jupyter": {
     "source_hidden": true
    }
   },
   "outputs": [
    {
     "name": "stdout",
     "output_type": "stream",
     "text": [
      "Name: pandas\n",
      "Version: 1.2.4\n",
      "Summary: Powerful data structures for data analysis, time series, and statistics\n",
      "Home-page: https://pandas.pydata.org\n",
      "Author: None\n",
      "Author-email: None\n",
      "License: BSD\n",
      "Location: c:\\users\\natalia\\anaconda3\\lib\\site-packages\n",
      "Requires: python-dateutil, pytz, numpy\n",
      "Required-by: statsmodels, seaborn\n"
     ]
    }
   ],
   "source": [
    "import pandas as pd\n",
    "!pip show pandas"
   ]
  },
  {
   "cell_type": "code",
   "execution_count": 2,
   "id": "ba6ff480-fd68-4850-ab4b-667f12a33551",
   "metadata": {
    "tags": []
   },
   "outputs": [
    {
     "name": "stdout",
     "output_type": "stream",
     "text": [
      "Name: seaborn\n",
      "Version: 0.11.1\n",
      "Summary: seaborn: statistical data visualization\n",
      "Home-page: https://seaborn.pydata.org\n",
      "Author: Michael Waskom\n",
      "Author-email: mwaskom@nyu.edu\n",
      "License: BSD (3-clause)\n",
      "Location: c:\\users\\natalia\\anaconda3\\lib\\site-packages\n",
      "Requires: matplotlib, pandas, numpy, scipy\n",
      "Required-by: \n"
     ]
    }
   ],
   "source": [
    "import seaborn as sns\n",
    "sns.set_theme(style=\"ticks\", palette=\"rocket\")#registrando tema\n",
    "!pip show seaborn"
   ]
  },
  {
   "cell_type": "markdown",
   "id": "c66f3c52-133a-4a1c-8a34-9659066041e7",
   "metadata": {},
   "source": [
    "#### Importando base de dados"
   ]
  },
  {
   "cell_type": "code",
   "execution_count": 3,
   "id": "eceb9f7a-6e9a-4229-9e14-5b5a372aec0a",
   "metadata": {
    "tags": []
   },
   "outputs": [],
   "source": [
    "# lendo o dataset \n",
    "dados = pd.read_csv('dados/tips.csv', sep=',')"
   ]
  },
  {
   "cell_type": "code",
   "execution_count": 4,
   "id": "b9dd4a33-89a1-43d2-90ed-e5559ecf4314",
   "metadata": {
    "tags": []
   },
   "outputs": [
    {
     "name": "stdout",
     "output_type": "stream",
     "text": [
      "A base de dados contém 244 linhas e 6 colunas\n"
     ]
    }
   ],
   "source": [
    "# Visualizando o tamanho do dataset\n",
    "print('A base de dados contém {} linhas e {} colunas'.format(dados.shape[0],dados.shape[1]))"
   ]
  },
  {
   "cell_type": "code",
   "execution_count": 5,
   "id": "f1fbb388-ed2f-4239-8cf6-1ba491d58b98",
   "metadata": {},
   "outputs": [
    {
     "name": "stdout",
     "output_type": "stream",
     "text": [
      "<class 'pandas.core.frame.DataFrame'>\n",
      "RangeIndex: 244 entries, 0 to 243\n",
      "Data columns (total 6 columns):\n",
      " #   Column      Non-Null Count  Dtype  \n",
      "---  ------      --------------  -----  \n",
      " 0   total_bill  244 non-null    float64\n",
      " 1   tip         244 non-null    float64\n",
      " 2   dessert     244 non-null    object \n",
      " 3   day         244 non-null    object \n",
      " 4   time        244 non-null    object \n",
      " 5   size        244 non-null    int64  \n",
      "dtypes: float64(2), int64(1), object(3)\n",
      "memory usage: 11.6+ KB\n"
     ]
    }
   ],
   "source": [
    "# Visualizando resumo das informações do dataset\n",
    "dados.info()"
   ]
  },
  {
   "cell_type": "code",
   "execution_count": 6,
   "id": "05c883a6-bd3c-41bf-8de8-64c0500c5a57",
   "metadata": {
    "tags": []
   },
   "outputs": [
    {
     "data": {
      "text/html": [
       "<div>\n",
       "<style scoped>\n",
       "    .dataframe tbody tr th:only-of-type {\n",
       "        vertical-align: middle;\n",
       "    }\n",
       "\n",
       "    .dataframe tbody tr th {\n",
       "        vertical-align: top;\n",
       "    }\n",
       "\n",
       "    .dataframe thead th {\n",
       "        text-align: right;\n",
       "    }\n",
       "</style>\n",
       "<table border=\"1\" class=\"dataframe\">\n",
       "  <thead>\n",
       "    <tr style=\"text-align: right;\">\n",
       "      <th></th>\n",
       "      <th>total_bill</th>\n",
       "      <th>tip</th>\n",
       "      <th>dessert</th>\n",
       "      <th>day</th>\n",
       "      <th>time</th>\n",
       "      <th>size</th>\n",
       "    </tr>\n",
       "  </thead>\n",
       "  <tbody>\n",
       "    <tr>\n",
       "      <th>37</th>\n",
       "      <td>16.93</td>\n",
       "      <td>3.07</td>\n",
       "      <td>No</td>\n",
       "      <td>Sat</td>\n",
       "      <td>Dinner</td>\n",
       "      <td>3</td>\n",
       "    </tr>\n",
       "    <tr>\n",
       "      <th>154</th>\n",
       "      <td>19.77</td>\n",
       "      <td>2.00</td>\n",
       "      <td>No</td>\n",
       "      <td>Sun</td>\n",
       "      <td>Dinner</td>\n",
       "      <td>4</td>\n",
       "    </tr>\n",
       "    <tr>\n",
       "      <th>102</th>\n",
       "      <td>44.30</td>\n",
       "      <td>2.50</td>\n",
       "      <td>Yes</td>\n",
       "      <td>Sat</td>\n",
       "      <td>Dinner</td>\n",
       "      <td>3</td>\n",
       "    </tr>\n",
       "    <tr>\n",
       "      <th>72</th>\n",
       "      <td>26.86</td>\n",
       "      <td>3.14</td>\n",
       "      <td>Yes</td>\n",
       "      <td>Sat</td>\n",
       "      <td>Dinner</td>\n",
       "      <td>2</td>\n",
       "    </tr>\n",
       "    <tr>\n",
       "      <th>147</th>\n",
       "      <td>11.87</td>\n",
       "      <td>1.63</td>\n",
       "      <td>No</td>\n",
       "      <td>Thur</td>\n",
       "      <td>Lunch</td>\n",
       "      <td>2</td>\n",
       "    </tr>\n",
       "  </tbody>\n",
       "</table>\n",
       "</div>"
      ],
      "text/plain": [
       "     total_bill   tip dessert   day    time  size\n",
       "37        16.93  3.07      No   Sat  Dinner     3\n",
       "154       19.77  2.00      No   Sun  Dinner     4\n",
       "102       44.30  2.50     Yes   Sat  Dinner     3\n",
       "72        26.86  3.14     Yes   Sat  Dinner     2\n",
       "147       11.87  1.63      No  Thur   Lunch     2"
      ]
     },
     "execution_count": 6,
     "metadata": {},
     "output_type": "execute_result"
    }
   ],
   "source": [
    "# Visualizando uma amostra dos dados\n",
    "dados.sample(5)"
   ]
  },
  {
   "cell_type": "markdown",
   "id": "70005bb9-9868-488f-8bd9-fa2f7af221a9",
   "metadata": {},
   "source": [
    "#### Traduzindo dados -  etapa apenas para fins didáticos!"
   ]
  },
  {
   "cell_type": "code",
   "execution_count": 7,
   "id": "5346d1e1-c223-4533-8a98-71d36a87ff65",
   "metadata": {
    "jupyter": {
     "source_hidden": true
    }
   },
   "outputs": [
    {
     "data": {
      "text/plain": [
       "Index(['total_bill', 'tip', 'dessert', 'day', 'time', 'size'], dtype='object')"
      ]
     },
     "execution_count": 7,
     "metadata": {},
     "output_type": "execute_result"
    }
   ],
   "source": [
    "# Verificando o nome das colunas\n",
    "dados.columns"
   ]
  },
  {
   "cell_type": "code",
   "execution_count": 8,
   "id": "b4698693-ebca-4806-955b-85ee6751dfb2",
   "metadata": {
    "tags": []
   },
   "outputs": [
    {
     "data": {
      "text/html": [
       "<div>\n",
       "<style scoped>\n",
       "    .dataframe tbody tr th:only-of-type {\n",
       "        vertical-align: middle;\n",
       "    }\n",
       "\n",
       "    .dataframe tbody tr th {\n",
       "        vertical-align: top;\n",
       "    }\n",
       "\n",
       "    .dataframe thead th {\n",
       "        text-align: right;\n",
       "    }\n",
       "</style>\n",
       "<table border=\"1\" class=\"dataframe\">\n",
       "  <thead>\n",
       "    <tr style=\"text-align: right;\">\n",
       "      <th></th>\n",
       "      <th>total_conta</th>\n",
       "      <th>gorjeta</th>\n",
       "      <th>sobremesa</th>\n",
       "      <th>dia_da_semana</th>\n",
       "      <th>hora_do_dia</th>\n",
       "      <th>total_de_pessoas</th>\n",
       "    </tr>\n",
       "  </thead>\n",
       "  <tbody>\n",
       "    <tr>\n",
       "      <th>0</th>\n",
       "      <td>16.99</td>\n",
       "      <td>1.01</td>\n",
       "      <td>No</td>\n",
       "      <td>Sun</td>\n",
       "      <td>Dinner</td>\n",
       "      <td>2</td>\n",
       "    </tr>\n",
       "    <tr>\n",
       "      <th>1</th>\n",
       "      <td>10.34</td>\n",
       "      <td>1.66</td>\n",
       "      <td>No</td>\n",
       "      <td>Sun</td>\n",
       "      <td>Dinner</td>\n",
       "      <td>3</td>\n",
       "    </tr>\n",
       "    <tr>\n",
       "      <th>2</th>\n",
       "      <td>21.01</td>\n",
       "      <td>3.50</td>\n",
       "      <td>No</td>\n",
       "      <td>Sun</td>\n",
       "      <td>Dinner</td>\n",
       "      <td>3</td>\n",
       "    </tr>\n",
       "    <tr>\n",
       "      <th>3</th>\n",
       "      <td>23.68</td>\n",
       "      <td>3.31</td>\n",
       "      <td>No</td>\n",
       "      <td>Sun</td>\n",
       "      <td>Dinner</td>\n",
       "      <td>2</td>\n",
       "    </tr>\n",
       "    <tr>\n",
       "      <th>4</th>\n",
       "      <td>24.59</td>\n",
       "      <td>3.61</td>\n",
       "      <td>No</td>\n",
       "      <td>Sun</td>\n",
       "      <td>Dinner</td>\n",
       "      <td>4</td>\n",
       "    </tr>\n",
       "  </tbody>\n",
       "</table>\n",
       "</div>"
      ],
      "text/plain": [
       "   total_conta  gorjeta sobremesa dia_da_semana hora_do_dia  total_de_pessoas\n",
       "0        16.99     1.01        No           Sun      Dinner                 2\n",
       "1        10.34     1.66        No           Sun      Dinner                 3\n",
       "2        21.01     3.50        No           Sun      Dinner                 3\n",
       "3        23.68     3.31        No           Sun      Dinner                 2\n",
       "4        24.59     3.61        No           Sun      Dinner                 4"
      ]
     },
     "execution_count": 8,
     "metadata": {},
     "output_type": "execute_result"
    }
   ],
   "source": [
    "# Renomeando as colunas\n",
    "\n",
    "#criando um dicionário onde a chave é o objeto atual e o valor é o objeto que devera substituir o atual\n",
    "renomear = {\n",
    "    'total_bill':'total_conta', \n",
    "    'tip':'gorjeta', \n",
    "    'dessert':'sobremesa', \n",
    "    'day':'dia_da_semana', \n",
    "    'time':'hora_do_dia', \n",
    "    'size':'total_de_pessoas'    \n",
    "}\n",
    "\n",
    "#criando novo dataframe \n",
    "gorjetas = dados.rename(columns=renomear)\n",
    "gorjetas.head(5)"
   ]
  },
  {
   "cell_type": "code",
   "execution_count": 9,
   "id": "b71bfcee-bfcc-45ee-b5c7-53e0567f56ca",
   "metadata": {
    "jupyter": {
     "source_hidden": true
    }
   },
   "outputs": [
    {
     "data": {
      "text/plain": [
       "array(['Não', 'Sim'], dtype=object)"
      ]
     },
     "execution_count": 9,
     "metadata": {},
     "output_type": "execute_result"
    }
   ],
   "source": [
    "# Renomeando campo sobremesa\n",
    "\n",
    "#visualizando os dados da variável com o método unique()\n",
    "gorjetas.sobremesa.unique()\n",
    "\n",
    "#criando dicionário\n",
    "sim_não = {\n",
    "    'No':'Não', \n",
    "    'Yes':'Sim'\n",
    "}\n",
    "\n",
    "#trocando os valores da coluna usando a função map()\n",
    "gorjetas.sobremesa = gorjetas.sobremesa.map(sim_não)\n",
    "gorjetas.sobremesa.unique()"
   ]
  },
  {
   "cell_type": "code",
   "execution_count": 10,
   "id": "5c606963-138e-4316-8a3d-c4f3b74975b2",
   "metadata": {
    "jupyter": {
     "source_hidden": true
    }
   },
   "outputs": [
    {
     "data": {
      "text/plain": [
       "array(['Dom', 'Sáb', 'Qui', 'Sex'], dtype=object)"
      ]
     },
     "execution_count": 10,
     "metadata": {},
     "output_type": "execute_result"
    }
   ],
   "source": [
    "# Renomeando campo dia da semana\n",
    "\n",
    "#visualizando os dados da variável com o método unique()\n",
    "gorjetas.dia_da_semana.unique()\n",
    "\n",
    "#criando dicionário\n",
    "semana = {\n",
    "    'Sun':'Dom', \n",
    "    'Sat':'Sáb', \n",
    "    'Thur':'Qui', \n",
    "    'Fri':'Sex'\n",
    "}\n",
    "\n",
    "#trocando os valores da coluna usando a função map()\n",
    "gorjetas.dia_da_semana = gorjetas.dia_da_semana.map(semana)\n",
    "gorjetas.dia_da_semana.unique()"
   ]
  },
  {
   "cell_type": "code",
   "execution_count": 11,
   "id": "7614c2bd-db6f-4caa-8f61-845dc5611d7e",
   "metadata": {
    "jupyter": {
     "source_hidden": true
    }
   },
   "outputs": [
    {
     "data": {
      "text/plain": [
       "array(['Jantar', 'Almoço'], dtype=object)"
      ]
     },
     "execution_count": 11,
     "metadata": {},
     "output_type": "execute_result"
    }
   ],
   "source": [
    "# Renomeando campo hora do dia\n",
    "\n",
    "#visualizando os dados da variável com o método unique()\n",
    "gorjetas.hora_do_dia.unique()\n",
    "\n",
    "#criando dicionário\n",
    "hora = {\n",
    "   'Dinner':'Jantar', \n",
    "    'Lunch':'Almoço'\n",
    "}\n",
    "\n",
    "#trocando os valores da coluna usando a função map()\n",
    "gorjetas.hora_do_dia = gorjetas.hora_do_dia.map(hora)\n",
    "gorjetas.hora_do_dia.unique()"
   ]
  },
  {
   "cell_type": "markdown",
   "id": "8ff52ae7-03ff-4ee4-a086-cfcb0453b54e",
   "metadata": {},
   "source": [
    "### Primeira Análise: O Valor da conta influência no valor da gorjeta?"
   ]
  },
  {
   "cell_type": "markdown",
   "id": "a4899654-28f4-46d6-bb2b-c4558b386c48",
   "metadata": {},
   "source": [
    "#### Visualizando os dados através de um gráfico de dispersão"
   ]
  },
  {
   "cell_type": "code",
   "execution_count": 12,
   "id": "b2766a64-fa9e-4f32-9367-43a04ac8c761",
   "metadata": {
    "tags": []
   },
   "outputs": [
    {
     "data": {
      "image/png": "[encoded data removed]",
      "text/plain": [
       "<Figure size 432x288 with 1 Axes>"
      ]
     },
     "metadata": {},
     "output_type": "display_data"
    }
   ],
   "source": [
    "# Gráfico de dispersão Valor Total da Conta x Valor da Gorjeta\n",
    "fig1 = sns.scatterplot(x='total_conta', y='gorjeta', data=gorjetas)"
   ]
  },
  {
   "cell_type": "markdown",
   "id": "9567c807-6be1-4d67-b833-95c69b3d16ac",
   "metadata": {},
   "source": [
    "<b>Visualmente</b> o valor da gorjeta aumenta conforme o valor da conta"
   ]
  },
  {
   "cell_type": "markdown",
   "id": "2cfc5989-c79c-4e7b-87df-d21d59edf2e6",
   "metadata": {},
   "source": [
    "#### Analisando se o crescimento é proporcional"
   ]
  },
  {
   "cell_type": "code",
   "execution_count": 13,
   "id": "1a2aea44-1380-4f29-8368-c7491c5b3ff7",
   "metadata": {},
   "outputs": [],
   "source": [
    "# Criando uma nova coluna com o percentual da gorjeta em relação ao valor da conta\n",
    "gorjetas['porcentagem'] = (gorjetas['gorjeta']/gorjetas['total_conta']).round(3)"
   ]
  },
  {
   "cell_type": "code",
   "execution_count": 15,
   "id": "4c554972-2f03-499a-a6b6-9e16210a1d95",
   "metadata": {},
   "outputs": [
    {
     "data": {
      "image/png": "[encoded data removed]",
      "text/plain": [
       "<Figure size 432x288 with 1 Axes>"
      ]
     },
     "metadata": {},
     "output_type": "display_data"
    }
   ],
   "source": [
    "# Gráfico de dispersão Valor Total da Conta x Porcentagem da Gorjeta\n",
    "fig2 = sns.scatterplot(x='total_conta', y='porcentagem', data=gorjetas)"
   ]
  },
  {
   "cell_type": "markdown",
   "id": "b106021b-e3a0-4cee-b843-b81592beffa2",
   "metadata": {},
   "source": [
    "<b>Visualmente</b> o valor da conta não é proporcional ao valor da gorjeta"
   ]
  },
  {
   "cell_type": "code",
   "execution_count": null,
   "id": "0f02d296-82e2-4ac5-90eb-141fac843b6e",
   "metadata": {},
   "outputs": [],
   "source": []
  },
  {
   "cell_type": "code",
   "execution_count": null,
   "id": "c5d45500-9ed4-4e16-a3fc-2eddd769d878",
   "metadata": {},
   "outputs": [],
   "source": [
    "gorjetas.head(1)"
   ]
  },
  {
   "cell_type": "code",
   "execution_count": null,
   "id": "1e86c153-6e8c-4235-9120-e5ad95596466",
   "metadata": {},
   "outputs": [],
   "source": []
  }
 ],
 "metadata": {
  "kernelspec": {
   "display_name": "Python 3",
   "language": "python",
   "name": "python3"
  },
  "language_info": {
   "codemirror_mode": {
    "name": "ipython",
    "version": 3
   },
   "file_extension": ".py",
   "mimetype": "text/x-python",
   "name": "python",
   "nbconvert_exporter": "python",
   "pygments_lexer": "ipython3",
   "version": "3.8.8"
  }
 },
 "nbformat": 4,
 "nbformat_minor": 5
}
