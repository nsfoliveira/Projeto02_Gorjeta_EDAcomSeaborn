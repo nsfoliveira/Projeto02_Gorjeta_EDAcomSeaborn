{
 "cells": [
  {
   "cell_type": "markdown",
   "id": "4b93042c-8c00-4fcd-ac34-4a6e0f6638d6",
   "metadata": {},
   "source": [
    "# Projeto 02: Análise Exploratória dos Dados de Gorjeta"
   ]
  },
  {
   "cell_type": "code",
   "execution_count": null,
   "id": "54b01852-274e-46a8-b3b8-93466a092eca",
   "metadata": {},
   "outputs": [],
   "source": []
  }
 ],
 "metadata": {
  "kernelspec": {
   "display_name": "Python 3",
   "language": "python",
   "name": "python3"
  },
  "language_info": {
   "codemirror_mode": {
    "name": "ipython",
    "version": 3
   },
   "file_extension": ".py",
   "mimetype": "text/x-python",
   "name": "python",
   "nbconvert_exporter": "python",
   "pygments_lexer": "ipython3",
   "version": "3.8.8"
  }
 },
 "nbformat": 4,
 "nbformat_minor": 5
}
